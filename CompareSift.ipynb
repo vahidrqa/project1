{
  "nbformat": 4,
  "nbformat_minor": 0,
  "metadata": {
    "colab": {
      "provenance": [],
      "gpuType": "T4",
      "mount_file_id": "1I8ksvLcJInJFiIyOBiiP1Uy8yqX6Y9Ix",
      "authorship_tag": "ABX9TyOoMQQ2ACRprb4dlWi0konD",
      "include_colab_link": true
    },
    "kernelspec": {
      "name": "python3",
      "display_name": "Python 3"
    },
    "language_info": {
      "name": "python"
    },
    "accelerator": "GPU"
  },
  "cells": [
    {
      "cell_type": "markdown",
      "metadata": {
        "id": "view-in-github",
        "colab_type": "text"
      },
      "source": [
        "<a href=\"https://colab.research.google.com/github/vahidrqa/project1/blob/main/CompareSift.ipynb\" target=\"_parent\"><img src=\"https://colab.research.google.com/assets/colab-badge.svg\" alt=\"Open In Colab\"/></a>"
      ]
    },
    {
      "cell_type": "code",
      "execution_count": 1,
      "metadata": {
        "colab": {
          "base_uri": "https://localhost:8080/"
        },
        "id": "y6E6UiCGchfk",
        "outputId": "dbc6a90e-d2af-4b9c-a14d-4fed5674cb4c"
      },
      "outputs": [
        {
          "output_type": "stream",
          "name": "stdout",
          "text": [
            "Requirement already satisfied: opencv-python in /usr/local/lib/python3.10/dist-packages (4.8.0.76)\n",
            "Requirement already satisfied: opencv-python-headless in /usr/local/lib/python3.10/dist-packages (4.9.0.80)\n",
            "Requirement already satisfied: numpy>=1.21.2 in /usr/local/lib/python3.10/dist-packages (from opencv-python) (1.25.2)\n",
            "Image: hecras.jpg, Similarity Index: 156\n",
            "Image: hand.jpg, Similarity Index: 151\n",
            "Image: triton.jpg, Similarity Index: 167\n",
            "Image: lisflood.jpg, Similarity Index: 127\n",
            "Image: Ar.jpg, Similarity Index: 159\n",
            "\n",
            "The most similar image is: triton.jpg with an index of 167\n"
          ]
        }
      ],
      "source": [
        "!pip install opencv-python opencv-python-headless\n",
        "\n",
        "import cv2\n",
        "import numpy as np\n",
        "import os\n",
        "from pathlib import Path\n",
        "\n",
        "# Initialize SIFT detector\n",
        "sift = cv2.SIFT_create()\n",
        "\n",
        "# Function to calculate the number of good matches\n",
        "def calculate_good_matches(img1, img2):\n",
        "    # Detect and compute SIFT features\n",
        "    keypoints1, descriptors1 = sift.detectAndCompute(img1, None)\n",
        "    keypoints2, descriptors2 = sift.detectAndCompute(img2, None)\n",
        "\n",
        "    # FLANN parameters\n",
        "    FLANN_INDEX_KDTREE = 1\n",
        "    index_params = dict(algorithm=FLANN_INDEX_KDTREE, trees=5)\n",
        "    search_params = dict(checks=50)\n",
        "\n",
        "    flann = cv2.FlannBasedMatcher(index_params, search_params)\n",
        "\n",
        "    matches = flann.knnMatch(descriptors1, descriptors2, k=2)\n",
        "\n",
        "    # Apply Lowe's ratio test\n",
        "    good_matches = []\n",
        "    for m, n in matches:\n",
        "        if m.distance < 0.7 * n.distance:\n",
        "            good_matches.append(m)\n",
        "\n",
        "    return len(good_matches)\n",
        "\n",
        "# Load the source image\n",
        "source_path = '/content/drive/MyDrive/Data/Source.jpg'\n",
        "source_img = cv2.imread(source_path, cv2.IMREAD_GRAYSCALE)\n",
        "\n",
        "# Directory containing images to compare\n",
        "images_dir = '/content/drive/MyDrive/Data/images'\n",
        "images_paths = list(Path(images_dir).glob('*'))\n",
        "\n",
        "# Calculate similarity index for each image\n",
        "similarity_indices = {}\n",
        "\n",
        "for image_path in images_paths:\n",
        "    img = cv2.imread(str(image_path), cv2.IMREAD_GRAYSCALE)\n",
        "    if img is not None:\n",
        "        good_matches_count = calculate_good_matches(source_img, img)\n",
        "        similarity_indices[image_path.name] = good_matches_count\n",
        "\n",
        "# Find the image with the highest similarity index\n",
        "most_similar_image = max(similarity_indices, key=similarity_indices.get)\n",
        "most_similar_index = similarity_indices[most_similar_image]\n",
        "\n",
        "# Output the similarity indices\n",
        "for image_name, index in similarity_indices.items():\n",
        "    print(f\"Image: {image_name}, Similarity Index: {index}\")\n",
        "\n",
        "print(f\"\\nThe most similar image is: {most_similar_image} with an index of {most_similar_index}\")\n",
        "\n"
      ]
    }
  ]
}